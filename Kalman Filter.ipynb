{
 "cells": [
  {
   "cell_type": "markdown",
   "id": "ec5096ae",
   "metadata": {},
   "source": [
    "# Hi :)"
   ]
  },
  {
   "cell_type": "markdown",
   "id": "9cb7f7cb",
   "metadata": {},
   "source": [
    "----"
   ]
  },
  {
   "cell_type": "markdown",
   "id": "a7499c04",
   "metadata": {},
   "source": [
    "# Import libraries"
   ]
  },
  {
   "cell_type": "code",
   "execution_count": 19,
   "id": "19f72253",
   "metadata": {},
   "outputs": [],
   "source": [
    "import pandas as pd\n",
    "import numpy as np\n",
    "import matplotlib.pyplot as plt"
   ]
  },
  {
   "cell_type": "code",
   "execution_count": 4,
   "id": "2b3ab341",
   "metadata": {},
   "outputs": [
    {
     "data": {
      "text/html": [
       "<div>\n",
       "<style scoped>\n",
       "    .dataframe tbody tr th:only-of-type {\n",
       "        vertical-align: middle;\n",
       "    }\n",
       "\n",
       "    .dataframe tbody tr th {\n",
       "        vertical-align: top;\n",
       "    }\n",
       "\n",
       "    .dataframe thead th {\n",
       "        text-align: right;\n",
       "    }\n",
       "</style>\n",
       "<table border=\"1\" class=\"dataframe\">\n",
       "  <thead>\n",
       "    <tr style=\"text-align: right;\">\n",
       "      <th></th>\n",
       "      <th>Sensor_1</th>\n",
       "      <th>Sensor_2</th>\n",
       "    </tr>\n",
       "  </thead>\n",
       "  <tbody>\n",
       "    <tr>\n",
       "      <th>0</th>\n",
       "      <td>98.996378</td>\n",
       "      <td>94.652863</td>\n",
       "    </tr>\n",
       "    <tr>\n",
       "      <th>1</th>\n",
       "      <td>97.942695</td>\n",
       "      <td>102.465946</td>\n",
       "    </tr>\n",
       "    <tr>\n",
       "      <th>2</th>\n",
       "      <td>97.545603</td>\n",
       "      <td>102.450932</td>\n",
       "    </tr>\n",
       "    <tr>\n",
       "      <th>3</th>\n",
       "      <td>101.541709</td>\n",
       "      <td>101.392809</td>\n",
       "    </tr>\n",
       "    <tr>\n",
       "      <th>4</th>\n",
       "      <td>98.678209</td>\n",
       "      <td>95.449148</td>\n",
       "    </tr>\n",
       "  </tbody>\n",
       "</table>\n",
       "</div>"
      ],
      "text/plain": [
       "     Sensor_1    Sensor_2\n",
       "0   98.996378   94.652863\n",
       "1   97.942695  102.465946\n",
       "2   97.545603  102.450932\n",
       "3  101.541709  101.392809\n",
       "4   98.678209   95.449148"
      ]
     },
     "execution_count": 4,
     "metadata": {},
     "output_type": "execute_result"
    }
   ],
   "source": [
    "sensors_data= pd.read_excel('Datasets/Variance_estimation_experiment.xlsx')\n",
    "sensors_data.head()"
   ]
  },
  {
   "cell_type": "markdown",
   "id": "092022d0",
   "metadata": {},
   "source": [
    "lets look through data"
   ]
  },
  {
   "cell_type": "code",
   "execution_count": 8,
   "id": "7bbe79e3",
   "metadata": {},
   "outputs": [
    {
     "data": {
      "text/plain": [
       "(1000, 2)"
      ]
     },
     "execution_count": 8,
     "metadata": {},
     "output_type": "execute_result"
    }
   ],
   "source": [
    "# number of records and columns\n",
    "sensors_data.shape"
   ]
  },
  {
   "cell_type": "code",
   "execution_count": 10,
   "id": "80f1ecd3",
   "metadata": {},
   "outputs": [
    {
     "name": "stdout",
     "output_type": "stream",
     "text": [
      "<class 'pandas.core.frame.DataFrame'>\n",
      "RangeIndex: 1000 entries, 0 to 999\n",
      "Data columns (total 2 columns):\n",
      " #   Column    Non-Null Count  Dtype  \n",
      "---  ------    --------------  -----  \n",
      " 0   Sensor_1  1000 non-null   float64\n",
      " 1   Sensor_2  1000 non-null   float64\n",
      "dtypes: float64(2)\n",
      "memory usage: 15.8 KB\n"
     ]
    }
   ],
   "source": [
    "# type of the columns and the count of null values\n",
    "sensors_data.info()"
   ]
  },
  {
   "cell_type": "code",
   "execution_count": 11,
   "id": "e26474a6",
   "metadata": {},
   "outputs": [
    {
     "data": {
      "text/html": [
       "<div>\n",
       "<style scoped>\n",
       "    .dataframe tbody tr th:only-of-type {\n",
       "        vertical-align: middle;\n",
       "    }\n",
       "\n",
       "    .dataframe tbody tr th {\n",
       "        vertical-align: top;\n",
       "    }\n",
       "\n",
       "    .dataframe thead th {\n",
       "        text-align: right;\n",
       "    }\n",
       "</style>\n",
       "<table border=\"1\" class=\"dataframe\">\n",
       "  <thead>\n",
       "    <tr style=\"text-align: right;\">\n",
       "      <th></th>\n",
       "      <th>Sensor_1</th>\n",
       "      <th>Sensor_2</th>\n",
       "    </tr>\n",
       "  </thead>\n",
       "  <tbody>\n",
       "    <tr>\n",
       "      <th>count</th>\n",
       "      <td>1000.000000</td>\n",
       "      <td>1000.000000</td>\n",
       "    </tr>\n",
       "    <tr>\n",
       "      <th>mean</th>\n",
       "      <td>100.081944</td>\n",
       "      <td>99.955946</td>\n",
       "    </tr>\n",
       "    <tr>\n",
       "      <th>std</th>\n",
       "      <td>1.453548</td>\n",
       "      <td>2.868141</td>\n",
       "    </tr>\n",
       "    <tr>\n",
       "      <th>min</th>\n",
       "      <td>96.073688</td>\n",
       "      <td>90.509941</td>\n",
       "    </tr>\n",
       "    <tr>\n",
       "      <th>25%</th>\n",
       "      <td>99.025507</td>\n",
       "      <td>98.074718</td>\n",
       "    </tr>\n",
       "    <tr>\n",
       "      <th>50%</th>\n",
       "      <td>100.058905</td>\n",
       "      <td>99.935636</td>\n",
       "    </tr>\n",
       "    <tr>\n",
       "      <th>75%</th>\n",
       "      <td>101.076676</td>\n",
       "      <td>101.761553</td>\n",
       "    </tr>\n",
       "    <tr>\n",
       "      <th>max</th>\n",
       "      <td>105.624231</td>\n",
       "      <td>108.836129</td>\n",
       "    </tr>\n",
       "  </tbody>\n",
       "</table>\n",
       "</div>"
      ],
      "text/plain": [
       "          Sensor_1     Sensor_2\n",
       "count  1000.000000  1000.000000\n",
       "mean    100.081944    99.955946\n",
       "std       1.453548     2.868141\n",
       "min      96.073688    90.509941\n",
       "25%      99.025507    98.074718\n",
       "50%     100.058905    99.935636\n",
       "75%     101.076676   101.761553\n",
       "max     105.624231   108.836129"
      ]
     },
     "execution_count": 11,
     "metadata": {},
     "output_type": "execute_result"
    }
   ],
   "source": [
    "# statistical information about the dataset\n",
    "sensors_data.describe()"
   ]
  },
  {
   "cell_type": "markdown",
   "id": "5be36064",
   "metadata": {},
   "source": [
    "lets work on the errors"
   ]
  },
  {
   "cell_type": "code",
   "execution_count": 12,
   "id": "36fd8a47",
   "metadata": {},
   "outputs": [],
   "source": [
    "# making a copy of original dataset to work with\n",
    "df= sensors_data.copy()"
   ]
  },
  {
   "cell_type": "code",
   "execution_count": null,
   "id": "52668049",
   "metadata": {},
   "outputs": [
    {
     "data": {
      "text/html": [
       "<div>\n",
       "<style scoped>\n",
       "    .dataframe tbody tr th:only-of-type {\n",
       "        vertical-align: middle;\n",
       "    }\n",
       "\n",
       "    .dataframe tbody tr th {\n",
       "        vertical-align: top;\n",
       "    }\n",
       "\n",
       "    .dataframe thead th {\n",
       "        text-align: right;\n",
       "    }\n",
       "</style>\n",
       "<table border=\"1\" class=\"dataframe\">\n",
       "  <thead>\n",
       "    <tr style=\"text-align: right;\">\n",
       "      <th></th>\n",
       "      <th>Sensor_1</th>\n",
       "      <th>Sensor_2</th>\n",
       "    </tr>\n",
       "  </thead>\n",
       "  <tbody>\n",
       "    <tr>\n",
       "      <th>0</th>\n",
       "      <td>1.003622</td>\n",
       "      <td>5.347137</td>\n",
       "    </tr>\n",
       "    <tr>\n",
       "      <th>1</th>\n",
       "      <td>2.057305</td>\n",
       "      <td>2.465946</td>\n",
       "    </tr>\n",
       "    <tr>\n",
       "      <th>2</th>\n",
       "      <td>2.454397</td>\n",
       "      <td>2.450932</td>\n",
       "    </tr>\n",
       "    <tr>\n",
       "      <th>3</th>\n",
       "      <td>1.541709</td>\n",
       "      <td>1.392809</td>\n",
       "    </tr>\n",
       "    <tr>\n",
       "      <th>4</th>\n",
       "      <td>1.321791</td>\n",
       "      <td>4.550852</td>\n",
       "    </tr>\n",
       "  </tbody>\n",
       "</table>\n",
       "</div>"
      ],
      "text/plain": [
       "   Sensor_1  Sensor_2\n",
       "0  1.003622  5.347137\n",
       "1  2.057305  2.465946\n",
       "2  2.454397  2.450932\n",
       "3  1.541709  1.392809\n",
       "4  1.321791  4.550852"
      ]
     },
     "execution_count": 17,
     "metadata": {},
     "output_type": "execute_result"
    }
   ],
   "source": [
    "# finding the absolute error for each sensor\n",
    "for column in df.columns.to_list():\n",
    "    df[column]= np.abs(df[column] - 100)\n",
    "df.head()"
   ]
  },
  {
   "cell_type": "code",
   "execution_count": 18,
   "id": "4fa6c14d",
   "metadata": {},
   "outputs": [
    {
     "data": {
      "text/html": [
       "<div>\n",
       "<style scoped>\n",
       "    .dataframe tbody tr th:only-of-type {\n",
       "        vertical-align: middle;\n",
       "    }\n",
       "\n",
       "    .dataframe tbody tr th {\n",
       "        vertical-align: top;\n",
       "    }\n",
       "\n",
       "    .dataframe thead th {\n",
       "        text-align: right;\n",
       "    }\n",
       "</style>\n",
       "<table border=\"1\" class=\"dataframe\">\n",
       "  <thead>\n",
       "    <tr style=\"text-align: right;\">\n",
       "      <th></th>\n",
       "      <th>Sensor_1</th>\n",
       "      <th>Sensor_2</th>\n",
       "    </tr>\n",
       "  </thead>\n",
       "  <tbody>\n",
       "    <tr>\n",
       "      <th>count</th>\n",
       "      <td>1000.000000</td>\n",
       "      <td>1000.000000</td>\n",
       "    </tr>\n",
       "    <tr>\n",
       "      <th>mean</th>\n",
       "      <td>1.174066</td>\n",
       "      <td>2.278679</td>\n",
       "    </tr>\n",
       "    <tr>\n",
       "      <th>std</th>\n",
       "      <td>0.860065</td>\n",
       "      <td>1.740861</td>\n",
       "    </tr>\n",
       "    <tr>\n",
       "      <th>min</th>\n",
       "      <td>0.001165</td>\n",
       "      <td>0.001114</td>\n",
       "    </tr>\n",
       "    <tr>\n",
       "      <th>25%</th>\n",
       "      <td>0.472090</td>\n",
       "      <td>0.950394</td>\n",
       "    </tr>\n",
       "    <tr>\n",
       "      <th>50%</th>\n",
       "      <td>1.036755</td>\n",
       "      <td>1.829528</td>\n",
       "    </tr>\n",
       "    <tr>\n",
       "      <th>75%</th>\n",
       "      <td>1.676563</td>\n",
       "      <td>3.142698</td>\n",
       "    </tr>\n",
       "    <tr>\n",
       "      <th>max</th>\n",
       "      <td>5.624231</td>\n",
       "      <td>9.490059</td>\n",
       "    </tr>\n",
       "  </tbody>\n",
       "</table>\n",
       "</div>"
      ],
      "text/plain": [
       "          Sensor_1     Sensor_2\n",
       "count  1000.000000  1000.000000\n",
       "mean      1.174066     2.278679\n",
       "std       0.860065     1.740861\n",
       "min       0.001165     0.001114\n",
       "25%       0.472090     0.950394\n",
       "50%       1.036755     1.829528\n",
       "75%       1.676563     3.142698\n",
       "max       5.624231     9.490059"
      ]
     },
     "execution_count": 18,
     "metadata": {},
     "output_type": "execute_result"
    }
   ],
   "source": [
    "# getting the statistical information about the errors\n",
    "df.describe()"
   ]
  },
  {
   "cell_type": "code",
   "execution_count": null,
   "id": "d66ac643",
   "metadata": {},
   "outputs": [
    {
     "data": {
      "image/png": "[encoded data removed]",
      "text/plain": [
       "<Figure size 1104x368 with 2 Axes>"
      ]
     },
     "metadata": {},
     "output_type": "display_data"
    }
   ],
   "source": [
    "# visualization of absolute error\n",
    "plt.style.use('fivethirtyeight')\n",
    "fig, ax= plt.subplots(1, 2, sharex= False, sharey= False, figsize= (6, 2), dpi= 184)\n",
    "ax[0].hist(df['Sensor_1'], color= 'red', alpha= 0.8, label= 'Sensor 1')\n",
    "ax[0].set_xticks(np.arange(0, 6, 1))\n",
    "ax[0].set_xticklabels(np.arange(0, 6, 1), fontsize= 6)\n",
    "ax[0].set_yticks(np.arange(0, 320, 40))\n",
    "ax[0].set_yticklabels(np.arange(0, 320, 40), fontsize= 6)\n",
    "\n",
    "ax[1].hist(df['Sensor_2'], color= 'blue', alpha= 0.8, label= 'Sensor 2')\n",
    "ax[1].set_xticks(np.arange(0, 10, 1))\n",
    "ax[1].set_xticklabels(np.arange(0, 10, 1), fontsize= 6)\n",
    "ax[1].set_yticks(np.arange(0, 320, 40))\n",
    "ax[1].set_yticklabels(np.arange(0, 320, 40), fontsize= 6)\n",
    "\n",
    "ax[0].grid(False)\n",
    "ax[1].grid(False)\n",
    "\n",
    "ax[0].legend(fontsize= 6)\n",
    "ax[1].legend(fontsize= 6)\n",
    "\n",
    "ax[0].set_facecolor('white')\n",
    "ax[1].set_facecolor('white')\n",
    "fig.set_facecolor('white');"
   ]
  },
  {
   "cell_type": "code",
   "execution_count": 88,
   "id": "9a0a6e0d",
   "metadata": {},
   "outputs": [
    {
     "data": {
      "image/png": "[encoded data removed]",
      "text/plain": [
       "<Figure size 1104x368 with 2 Axes>"
      ]
     },
     "metadata": {},
     "output_type": "display_data"
    }
   ],
   "source": [
    "# visualization of row error\n",
    "df= sensors_data.copy()\n",
    "# finding the error for each sensor\n",
    "for column in df.columns.to_list():\n",
    "    df[column]= df[column] - 100\n",
    "\n",
    "plt.style.use('fivethirtyeight')\n",
    "fig, ax= plt.subplots(1, 2, sharex= False, sharey= False, figsize= (6, 2), dpi= 184)\n",
    "ax[0].hist(df['Sensor_1'], color= 'red', alpha= 0.8, label= 'Sensor 1')\n",
    "ax[0].set_xticks(np.arange(-4, 6, 1))\n",
    "ax[0].set_xticklabels(np.arange(-4, 6, 1), fontsize= 6)\n",
    "ax[0].set_yticks(np.arange(0, 280, 40))\n",
    "ax[0].set_yticklabels(np.arange(0, 280, 40), fontsize= 6)\n",
    "\n",
    "ax[1].hist(df['Sensor_2'], color= 'blue', alpha= 0.8, label= 'Sensor 2')\n",
    "ax[1].set_xticks(np.arange(-9, 10, 1))\n",
    "ax[1].set_xticklabels(np.arange(-9, 10, 1), fontsize= 6)\n",
    "ax[1].set_yticks(np.arange(0, 280, 40))\n",
    "ax[1].set_yticklabels(np.arange(0, 280, 40), fontsize= 6)\n",
    "\n",
    "ax[0].grid(False)\n",
    "ax[1].grid(False)\n",
    "\n",
    "ax[0].legend(fontsize= 6)\n",
    "ax[1].legend(fontsize= 6)\n",
    "\n",
    "ax[0].set_facecolor('white')\n",
    "ax[1].set_facecolor('white')\n",
    "fig.set_facecolor('white');"
   ]
  },
  {
   "cell_type": "code",
   "execution_count": 98,
   "id": "24ddde0d",
   "metadata": {},
   "outputs": [
    {
     "data": {
      "text/html": [
       "<div>\n",
       "<style scoped>\n",
       "    .dataframe tbody tr th:only-of-type {\n",
       "        vertical-align: middle;\n",
       "    }\n",
       "\n",
       "    .dataframe tbody tr th {\n",
       "        vertical-align: top;\n",
       "    }\n",
       "\n",
       "    .dataframe thead th {\n",
       "        text-align: right;\n",
       "    }\n",
       "</style>\n",
       "<table border=\"1\" class=\"dataframe\">\n",
       "  <thead>\n",
       "    <tr style=\"text-align: right;\">\n",
       "      <th></th>\n",
       "      <th>Sensor_1</th>\n",
       "      <th>Sensor_2</th>\n",
       "    </tr>\n",
       "  </thead>\n",
       "  <tbody>\n",
       "    <tr>\n",
       "      <th>count</th>\n",
       "      <td>1000.000000</td>\n",
       "      <td>1000.000000</td>\n",
       "    </tr>\n",
       "    <tr>\n",
       "      <th>mean</th>\n",
       "      <td>0.081944</td>\n",
       "      <td>-0.044054</td>\n",
       "    </tr>\n",
       "    <tr>\n",
       "      <th>std</th>\n",
       "      <td>1.453548</td>\n",
       "      <td>2.868141</td>\n",
       "    </tr>\n",
       "    <tr>\n",
       "      <th>min</th>\n",
       "      <td>-3.926312</td>\n",
       "      <td>-9.490059</td>\n",
       "    </tr>\n",
       "    <tr>\n",
       "      <th>25%</th>\n",
       "      <td>-0.974493</td>\n",
       "      <td>-1.925282</td>\n",
       "    </tr>\n",
       "    <tr>\n",
       "      <th>50%</th>\n",
       "      <td>0.058905</td>\n",
       "      <td>-0.064364</td>\n",
       "    </tr>\n",
       "    <tr>\n",
       "      <th>75%</th>\n",
       "      <td>1.076676</td>\n",
       "      <td>1.761553</td>\n",
       "    </tr>\n",
       "    <tr>\n",
       "      <th>max</th>\n",
       "      <td>5.624231</td>\n",
       "      <td>8.836129</td>\n",
       "    </tr>\n",
       "  </tbody>\n",
       "</table>\n",
       "</div>"
      ],
      "text/plain": [
       "          Sensor_1     Sensor_2\n",
       "count  1000.000000  1000.000000\n",
       "mean      0.081944    -0.044054\n",
       "std       1.453548     2.868141\n",
       "min      -3.926312    -9.490059\n",
       "25%      -0.974493    -1.925282\n",
       "50%       0.058905    -0.064364\n",
       "75%       1.076676     1.761553\n",
       "max       5.624231     8.836129"
      ]
     },
     "execution_count": 98,
     "metadata": {},
     "output_type": "execute_result"
    }
   ],
   "source": [
    "# statistical informations about row errors\n",
    "df.describe()"
   ]
  },
  {
   "cell_type": "code",
   "execution_count": 106,
   "id": "f236ff8b",
   "metadata": {},
   "outputs": [
    {
     "name": "stdout",
     "output_type": "stream",
     "text": [
      "Sensor_1:\n",
      "mean of errors= 0.0819\n",
      "variance of errors= 2.0\n",
      "\n",
      "Sensor_2:\n",
      "mean of errors= -0.0441\n",
      "variance of errors= 8.0\n",
      "\n"
     ]
    }
   ],
   "source": [
    "for column in df.columns:\n",
    "    mean= df[column].mean()\n",
    "    variance= np.sum((df[column] - mean) ** 2) / 1000\n",
    "    print(f'{column}:\\nmean of errors= {np.round(mean, 4)}\\nvariance of errors= {np.round(variance)}\\n')"
   ]
  },
  {
   "cell_type": "markdown",
   "id": "9f15c928",
   "metadata": {},
   "source": [
    "lets work on the other dataset"
   ]
  },
  {
   "cell_type": "code",
   "execution_count": 107,
   "id": "ef9a77c6",
   "metadata": {},
   "outputs": [
    {
     "data": {
      "text/html": [
       "<div>\n",
       "<style scoped>\n",
       "    .dataframe tbody tr th:only-of-type {\n",
       "        vertical-align: middle;\n",
       "    }\n",
       "\n",
       "    .dataframe tbody tr th {\n",
       "        vertical-align: top;\n",
       "    }\n",
       "\n",
       "    .dataframe thead th {\n",
       "        text-align: right;\n",
       "    }\n",
       "</style>\n",
       "<table border=\"1\" class=\"dataframe\">\n",
       "  <thead>\n",
       "    <tr style=\"text-align: right;\">\n",
       "      <th></th>\n",
       "      <th>True Position</th>\n",
       "      <th>Sensor 1 (Position)</th>\n",
       "      <th>Sensor 2 (Position)</th>\n",
       "    </tr>\n",
       "  </thead>\n",
       "  <tbody>\n",
       "    <tr>\n",
       "      <th>0</th>\n",
       "      <td>5.000000</td>\n",
       "      <td>5.921333</td>\n",
       "      <td>5.512687</td>\n",
       "    </tr>\n",
       "    <tr>\n",
       "      <th>1</th>\n",
       "      <td>6.075000</td>\n",
       "      <td>5.488294</td>\n",
       "      <td>7.545318</td>\n",
       "    </tr>\n",
       "    <tr>\n",
       "      <th>2</th>\n",
       "      <td>7.212500</td>\n",
       "      <td>5.315266</td>\n",
       "      <td>13.435979</td>\n",
       "    </tr>\n",
       "    <tr>\n",
       "      <th>3</th>\n",
       "      <td>8.322638</td>\n",
       "      <td>8.954242</td>\n",
       "      <td>10.158366</td>\n",
       "    </tr>\n",
       "    <tr>\n",
       "      <th>4</th>\n",
       "      <td>9.401469</td>\n",
       "      <td>10.009786</td>\n",
       "      <td>1.276876</td>\n",
       "    </tr>\n",
       "  </tbody>\n",
       "</table>\n",
       "</div>"
      ],
      "text/plain": [
       "   True Position  Sensor 1 (Position)  Sensor 2 (Position)\n",
       "0       5.000000             5.921333             5.512687\n",
       "1       6.075000             5.488294             7.545318\n",
       "2       7.212500             5.315266            13.435979\n",
       "3       8.322638             8.954242            10.158366\n",
       "4       9.401469            10.009786             1.276876"
      ]
     },
     "execution_count": 107,
     "metadata": {},
     "output_type": "execute_result"
    }
   ],
   "source": [
    "oscillator= pd.read_excel('Datasets/Oscillator.xlsx')\n",
    "oscillator.head()"
   ]
  },
  {
   "cell_type": "code",
   "execution_count": 110,
   "id": "e3e8989e",
   "metadata": {},
   "outputs": [
    {
     "data": {
      "text/plain": [
       "(501, 3)"
      ]
     },
     "execution_count": 110,
     "metadata": {},
     "output_type": "execute_result"
    }
   ],
   "source": [
    "# number of records and columns\n",
    "oscillator.shape"
   ]
  },
  {
   "cell_type": "code",
   "execution_count": 112,
   "id": "a26bf097",
   "metadata": {},
   "outputs": [
    {
     "name": "stdout",
     "output_type": "stream",
     "text": [
      "<class 'pandas.core.frame.DataFrame'>\n",
      "RangeIndex: 501 entries, 0 to 500\n",
      "Data columns (total 3 columns):\n",
      " #   Column               Non-Null Count  Dtype  \n",
      "---  ------               --------------  -----  \n",
      " 0   True Position        501 non-null    float64\n",
      " 1   Sensor 1 (Position)  501 non-null    float64\n",
      " 2   Sensor 2 (Position)  501 non-null    float64\n",
      "dtypes: float64(3)\n",
      "memory usage: 11.9 KB\n"
     ]
    }
   ],
   "source": [
    "# the type of columns and non-null values\n",
    "oscillator.info()"
   ]
  },
  {
   "cell_type": "code",
   "execution_count": 113,
   "id": "87792b89",
   "metadata": {},
   "outputs": [
    {
     "data": {
      "text/html": [
       "<div>\n",
       "<style scoped>\n",
       "    .dataframe tbody tr th:only-of-type {\n",
       "        vertical-align: middle;\n",
       "    }\n",
       "\n",
       "    .dataframe tbody tr th {\n",
       "        vertical-align: top;\n",
       "    }\n",
       "\n",
       "    .dataframe thead th {\n",
       "        text-align: right;\n",
       "    }\n",
       "</style>\n",
       "<table border=\"1\" class=\"dataframe\">\n",
       "  <thead>\n",
       "    <tr style=\"text-align: right;\">\n",
       "      <th></th>\n",
       "      <th>True Position</th>\n",
       "      <th>Sensor 1 (Position)</th>\n",
       "      <th>Sensor 2 (Position)</th>\n",
       "    </tr>\n",
       "  </thead>\n",
       "  <tbody>\n",
       "    <tr>\n",
       "      <th>count</th>\n",
       "      <td>501.000000</td>\n",
       "      <td>501.000000</td>\n",
       "      <td>501.000000</td>\n",
       "    </tr>\n",
       "    <tr>\n",
       "      <th>mean</th>\n",
       "      <td>0.964856</td>\n",
       "      <td>0.963705</td>\n",
       "      <td>1.070830</td>\n",
       "    </tr>\n",
       "    <tr>\n",
       "      <th>std</th>\n",
       "      <td>9.168559</td>\n",
       "      <td>9.345106</td>\n",
       "      <td>9.430618</td>\n",
       "    </tr>\n",
       "    <tr>\n",
       "      <th>min</th>\n",
       "      <td>-17.685065</td>\n",
       "      <td>-20.571334</td>\n",
       "      <td>-22.359106</td>\n",
       "    </tr>\n",
       "    <tr>\n",
       "      <th>25%</th>\n",
       "      <td>-6.365299</td>\n",
       "      <td>-6.505035</td>\n",
       "      <td>-5.974760</td>\n",
       "    </tr>\n",
       "    <tr>\n",
       "      <th>50%</th>\n",
       "      <td>1.634430</td>\n",
       "      <td>1.145093</td>\n",
       "      <td>1.470359</td>\n",
       "    </tr>\n",
       "    <tr>\n",
       "      <th>75%</th>\n",
       "      <td>7.468030</td>\n",
       "      <td>7.416136</td>\n",
       "      <td>7.761633</td>\n",
       "    </tr>\n",
       "    <tr>\n",
       "      <th>max</th>\n",
       "      <td>20.711145</td>\n",
       "      <td>24.403170</td>\n",
       "      <td>25.225684</td>\n",
       "    </tr>\n",
       "  </tbody>\n",
       "</table>\n",
       "</div>"
      ],
      "text/plain": [
       "       True Position  Sensor 1 (Position)  Sensor 2 (Position)\n",
       "count     501.000000           501.000000           501.000000\n",
       "mean        0.964856             0.963705             1.070830\n",
       "std         9.168559             9.345106             9.430618\n",
       "min       -17.685065           -20.571334           -22.359106\n",
       "25%        -6.365299            -6.505035            -5.974760\n",
       "50%         1.634430             1.145093             1.470359\n",
       "75%         7.468030             7.416136             7.761633\n",
       "max        20.711145            24.403170            25.225684"
      ]
     },
     "execution_count": 113,
     "metadata": {},
     "output_type": "execute_result"
    }
   ],
   "source": [
    "# statistical informations about original dataset\n",
    "oscillator.describe()"
   ]
  },
  {
   "cell_type": "code",
   "execution_count": 114,
   "id": "91b50b08",
   "metadata": {},
   "outputs": [],
   "source": [
    "# make a copy of original dataset to work on\n",
    "df= oscillator.copy()"
   ]
  },
  {
   "cell_type": "markdown",
   "id": "c05bc56a",
   "metadata": {},
   "source": [
    "RMSE"
   ]
  },
  {
   "cell_type": "code",
   "execution_count": 120,
   "id": "32fb4eaf",
   "metadata": {},
   "outputs": [
    {
     "name": "stdout",
     "output_type": "stream",
     "text": [
      "Sensor 1:\n",
      "RMSE= 1.5636\n",
      "\n",
      "Sensor 2:\n",
      "RMSE= 2.9104\n",
      "\n"
     ]
    }
   ],
   "source": [
    "# calculating the RMSE\n",
    "for column in df.columns[1 : ]:\n",
    "    rms= np.sqrt(np.sum((df['True Position'] - df[column]) ** 2) / len(df[column]))\n",
    "    print(f'{column[ : 8]}:\\nRMSE= {np.round(rms, 4)}\\n')"
   ]
  }
 ],
 "metadata": {
  "kernelspec": {
   "display_name": "Qvenv",
   "language": "python",
   "name": "qvenv"
  },
  "language_info": {
   "codemirror_mode": {
    "name": "ipython",
    "version": 3
   },
   "file_extension": ".py",
   "mimetype": "text/x-python",
   "name": "python",
   "nbconvert_exporter": "python",
   "pygments_lexer": "ipython3",
   "version": "3.10.0"
  }
 },
 "nbformat": 4,
 "nbformat_minor": 5
}
